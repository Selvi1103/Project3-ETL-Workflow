{
 "cells": [
  {
   "cell_type": "code",
   "execution_count": 1,
   "metadata": {},
   "outputs": [
    {
     "name": "stdout",
     "output_type": "stream",
     "text": [
      "<sqlalchemy.engine.cursor.CursorResult object at 0x00000212E09477E0>\n"
     ]
    },
    {
     "name": "stderr",
     "output_type": "stream",
     "text": [
      "C:\\Users\\User\\AppData\\Local\\Temp\\ipykernel_3400\\2687747542.py:40: UserWarning: The provided table name 'TransformedData' is not found exactly as such in the database after writing the table, possibly due to case sensitivity issues. Consider using lower case table names.\n",
      "  df.to_sql('TransformedData', con=engine, if_exists='append', index=False)\n"
     ]
    },
    {
     "name": "stdout",
     "output_type": "stream",
     "text": [
      "    id   name  height  weight  HeightsinMeters  WeightsinKgs\n",
      "0    1   alex      66     113               20            51\n",
      "1    2   ajay      72     136               22            62\n",
      "2    3  alice      69     153               21            69\n",
      "3    4   ravi      68     142               21            65\n",
      "4    5    joe      68     144               21            65\n",
      "5    6   jack      69     123               21            56\n",
      "6    7    tom      70     141               21            64\n",
      "7    8  tracy      70     136               21            62\n",
      "8    9   john      68     112               21            51\n",
      "9   10  simon      68     112               21            51\n",
      "10  11  jacob      67     121               20            55\n",
      "11  12  cindy      66     127               20            58\n",
      "12  13   ivan      68     114               21            52\n"
     ]
    }
   ],
   "source": [
    "import pandas as pd\n",
    "import mysql.connector\n",
    "from mysql.connector import Error\n",
    "import sqlalchemy\n",
    "from sqlalchemy import create_engine, Column, Integer, String, MetaData, Table,text\n",
    "\n",
    "host = 'rdsmysql.ctc0se6gw6h4.us-east-1.rds.amazonaws.com'\n",
    "schema = 'RdsMysqlDb'\n",
    "user = 'admin'\n",
    "password = 'saroselvi'\n",
    "port = '3306'\n",
    "\n",
    "#engine = create_engine('mysql+mysqlconnector://[user]:[password]@[host]:[port]/[schema]', echo=False)\n",
    "engine = sqlalchemy.create_engine(f\"mysql+mysqlconnector://{user}:{password}@{host}:{port}/{schema}\")\n",
    "# Create table query\n",
    "create_table_query = \"\"\"\n",
    "CREATE TABLE TransformedData(\n",
    "    id INT AUTO_INCREMENT PRIMARY KEY,\n",
    "    name VARCHAR(255) NOT NULL,\n",
    "    height INT NOT NULL,\n",
    "    weight INT NOT NULL,\n",
    "    HeightsinMeters INT NOT NULL,\n",
    "    WeightsinKgs INT NOT NULL\n",
    "    \n",
    ");    \n",
    "\"\"\"\n",
    "\n",
    "\n",
    "\n",
    "\n",
    "with engine.connect() as connection:\n",
    "    result=connection.execute(text(create_table_query))\n",
    "    print(result)\n",
    "\n",
    "\n",
    "\n",
    "df = pd.read_csv('C:\\\\Users\\\\User\\\\Source1_output\\\\csvfile.csv')\n",
    "\n",
    "# Insert data into the table\n",
    "df.to_sql('TransformedData', con=engine, if_exists='append', index=False)\n",
    "\n",
    "\n",
    "query = \"SELECT * FROM TransformedData\"\n",
    "result_df = pd.read_sql(query, con=engine)\n",
    "\n",
    "\n",
    "print(result_df)"
   ]
  }
 ],
 "metadata": {
  "kernelspec": {
   "display_name": "myenv3",
   "language": "python",
   "name": "python3"
  },
  "language_info": {
   "codemirror_mode": {
    "name": "ipython",
    "version": 3
   },
   "file_extension": ".py",
   "mimetype": "text/x-python",
   "name": "python",
   "nbconvert_exporter": "python",
   "pygments_lexer": "ipython3",
   "version": "3.12.4"
  }
 },
 "nbformat": 4,
 "nbformat_minor": 2
}
